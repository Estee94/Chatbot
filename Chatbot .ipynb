{
 "cells": [
  {
   "cell_type": "code",
   "execution_count": null,
   "id": "35e2cafe",
   "metadata": {},
   "outputs": [],
   "source": [
    "from chatterbot import ChatBot\n",
    "\n",
    "import time\n",
    "time.clock = time.time\n",
    "\n",
    "bot = ChatBot('Amazebot', read_only = True)"
   ]
  },
  {
   "cell_type": "code",
   "execution_count": null,
   "id": "64d9bfaa",
   "metadata": {},
   "outputs": [],
   "source": [
    "from chatterbot.trainers import ListTrainer\n",
    "trainer = ListTrainer(bot)\n",
    "trainer.train([\n",
    "    'Hello, I am Trevelyan House Surgery Amazebot. How can I help you today?',\n",
    "    'I need to book an appointment',\n",
    "    'Ok! Please let me know what kind of appointment you are looking for and with who?',\n",
    "    'I need to see the nurse for a dressing change.',\n",
    "    'Ok. What is a suitable date and time for you?',\n",
    "    '5th December anytime',\n",
    "    'Here are the available options: 5th December:10:00AM, 7th December:11:00AM, 9th December:3:30PM',\n",
    "    'I would like to book 5th December at 10:00am',\n",
    "    'Ok. Your appointmemnt with the nurse has been scheduled for the 5th of December at 10:00AM. Is there anything else I can help you with today?',\n",
    "    'No, that is all thank you, bye',\n",
    "    'Bye, have a lovely day'\n",
    "    \n",
    "])\n",
    "trainer.train([\n",
    "    'Hello, I am Trevelyan House Surgery Amazebot. How can we help you today?',\n",
    "    'I am seeking medical help',\n",
    "    'Ok, to get started: Please do share your Name and Date of Birth',\n",
    "    'I am charlie and my date of birth is 09/05/1991',\n",
    "    'Thanks for sharing. Do let us know what symptoms you are experiencing today',\n",
    "    'I am having a mild fever for the last few days and migranes',\n",
    "    'Ok, I see. Let me help you, I have a few more questions to ask: is that ok?'\n",
    "    \n",
    "])"
   ]
  },
  {
   "cell_type": "code",
   "execution_count": null,
   "id": "d1f819a5",
   "metadata": {},
   "outputs": [],
   "source": [
    "response = bot.get_response ('dressing change')\n",
    "print(response)\n"
   ]
  },
  {
   "cell_type": "code",
   "execution_count": null,
   "id": "23a6baae",
   "metadata": {},
   "outputs": [],
   "source": [
    "bot = ChatBot('Amazebot',\n",
    "             logic_adapters = [\n",
    "                 {\n",
    "                     'import_path': 'chatterbot.logic.BestMatch',\n",
    "                     'default_response': 'I am sorry, I do not understand. I am still learning. Please contact 02038835955 for further assistance.',\n",
    "                     'maximum_similarity_threshold': 0.90\n",
    "                 }\n",
    "             ],\n",
    "             read_only = True,\n",
    "             preprocessors=['chatterbot.preprocessors.clean_whitespace',\n",
    "'chatterbot.preprocessors.unescape_html',\n",
    "'chatterbot.preprocessors.convert_to_ascii'])"
   ]
  },
  {
   "cell_type": "code",
   "execution_count": null,
   "id": "95b3646a",
   "metadata": {},
   "outputs": [],
   "source": [
    "name = input('Enter Your Name: ')\n",
    "print ('Hello there. I am Trevelyan House Surgery Amazebot. How can I help you today?')\n",
    "while True:\n",
    "    \n",
    "    request = input(name+':')\n",
    "    \n",
    "    if request==\"Bye\" or request=='bye':\n",
    "        print('Bot: Bye')\n",
    "        break\n",
    "    else:\n",
    "        response=bot.get_response(request)\n",
    "        print('Bot: ', response)"
   ]
  },
  {
   "cell_type": "code",
   "execution_count": null,
   "id": "6d233826",
   "metadata": {},
   "outputs": [],
   "source": []
  }
 ],
 "metadata": {
  "kernelspec": {
   "display_name": "Python 3 (ipykernel)",
   "language": "python",
   "name": "python3"
  },
  "language_info": {
   "codemirror_mode": {
    "name": "ipython",
    "version": 3
   },
   "file_extension": ".py",
   "mimetype": "text/x-python",
   "name": "python",
   "nbconvert_exporter": "python",
   "pygments_lexer": "ipython3",
   "version": "3.9.13"
  }
 },
 "nbformat": 4,
 "nbformat_minor": 5
}
