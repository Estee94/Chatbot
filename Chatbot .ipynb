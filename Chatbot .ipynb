{
 "cells": [
  {
   "cell_type": "markdown",
   "id": "683c599a",
   "metadata": {},
   "source": [
    "# Import Library\n",
    "Here I am importing chatbot libray and creating a chatbot instance, the bot being named 'Amazebot' \n",
    "Specify read_only to True because we only want our chatbot to learn from our training data."
   ]
  },
  {
   "cell_type": "code",
   "execution_count": 1,
   "id": "35e2cafe",
   "metadata": {},
   "outputs": [
    {
     "name": "stderr",
     "output_type": "stream",
     "text": [
      "[nltk_data] Downloading package averaged_perceptron_tagger to\n",
      "[nltk_data]     C:\\Users\\eacka\\AppData\\Roaming\\nltk_data...\n",
      "[nltk_data]   Package averaged_perceptron_tagger is already up-to-\n",
      "[nltk_data]       date!\n",
      "[nltk_data] Downloading package punkt to\n",
      "[nltk_data]     C:\\Users\\eacka\\AppData\\Roaming\\nltk_data...\n",
      "[nltk_data]   Package punkt is already up-to-date!\n",
      "[nltk_data] Downloading package stopwords to\n",
      "[nltk_data]     C:\\Users\\eacka\\AppData\\Roaming\\nltk_data...\n",
      "[nltk_data]   Package stopwords is already up-to-date!\n"
     ]
    }
   ],
   "source": [
    "from chatterbot import ChatBot\n",
    "\n",
    "import time\n",
    "time.clock = time.time\n",
    "\n",
    "bot = ChatBot('Amazebot', read_only = True)"
   ]
  },
  {
   "cell_type": "markdown",
   "id": "7a3d5f05",
   "metadata": {},
   "source": [
    "# Training the chatbot\n",
    "Here I am importing the ListTrainer module, instantiating it by passing the chatbot object (Amazebot) and calling the train() method to pass a list of sentences."
   ]
  },
  {
   "cell_type": "code",
   "execution_count": 2,
   "id": "64d9bfaa",
   "metadata": {},
   "outputs": [
    {
     "name": "stdout",
     "output_type": "stream",
     "text": [
      "List Trainer: [####################] 100%\n",
      "List Trainer: [####################] 100%\n"
     ]
    }
   ],
   "source": [
    "from chatterbot.trainers import ListTrainer\n",
    "trainer = ListTrainer(bot)\n",
    "trainer.train([\n",
    "    'Hello, I am Trevelyan House Surgery Amazebot. How can I help you today?',\n",
    "    'I need to book an appointment',\n",
    "    'Ok! Please let me know what kind of appointment you are looking for and with who?',\n",
    "    'I need to see the nurse for a dressing change.',\n",
    "    'Ok. What is a suitable date and time for you?',\n",
    "    '5th December anytime',\n",
    "    'Here are the available options: 5th December:10:00AM, 7th December:11:00AM, 9th December:3:30PM',\n",
    "    'I would like to book 5th December at 10:00am',\n",
    "    'Ok. Your appointmemnt with the nurse has been scheduled for the 5th of December at 10:00AM. Is there anything else I can help you with today?',\n",
    "    'No, that is all thank you, bye',\n",
    "    'Bye, have a lovely day'\n",
    "    \n",
    "])\n",
    "trainer.train([\n",
    "    'Hello, I am Trevelyan House Surgery Amazebot. How can we help you today?',\n",
    "    'I am seeking medical help',\n",
    "    'Ok, to get started: Please do share your Name and Date of Birth',\n",
    "    'I am charlie and my date of birth is 09/05/1991',\n",
    "    'Thanks for sharing. Do let us know what symptoms you are experiencing today',\n",
    "    'I am having a mild fever for the last few days and migranes',\n",
    "    'Ok, I see. Let me help you, I have a few more questions to ask: is that ok?'\n",
    "    \n",
    "])"
   ]
  },
  {
   "cell_type": "markdown",
   "id": "079f8525",
   "metadata": {},
   "source": [
    "# Chatbot testing\n",
    "Chatbot is being tested by feeding the chatbot with an input statement."
   ]
  },
  {
   "cell_type": "code",
   "execution_count": 3,
   "id": "d1f819a5",
   "metadata": {},
   "outputs": [
    {
     "name": "stdout",
     "output_type": "stream",
     "text": [
      "Ok. What is a suitable date and time for you?\n"
     ]
    }
   ],
   "source": [
    "response = bot.get_response ('i need to see a nurse for a dressing change')\n",
    "print(response)\n"
   ]
  },
  {
   "cell_type": "markdown",
   "id": "81ae432d",
   "metadata": {},
   "source": [
    "# Low confidence response\n",
    "The chatbot has been configured to inform users if the input is not understood"
   ]
  },
  {
   "cell_type": "code",
   "execution_count": 4,
   "id": "23a6baae",
   "metadata": {},
   "outputs": [
    {
     "name": "stderr",
     "output_type": "stream",
     "text": [
      "[nltk_data] Downloading package averaged_perceptron_tagger to\n",
      "[nltk_data]     C:\\Users\\eacka\\AppData\\Roaming\\nltk_data...\n",
      "[nltk_data]   Package averaged_perceptron_tagger is already up-to-\n",
      "[nltk_data]       date!\n",
      "[nltk_data] Downloading package punkt to\n",
      "[nltk_data]     C:\\Users\\eacka\\AppData\\Roaming\\nltk_data...\n",
      "[nltk_data]   Package punkt is already up-to-date!\n",
      "[nltk_data] Downloading package stopwords to\n",
      "[nltk_data]     C:\\Users\\eacka\\AppData\\Roaming\\nltk_data...\n",
      "[nltk_data]   Package stopwords is already up-to-date!\n"
     ]
    }
   ],
   "source": [
    "bot = ChatBot('Amazebot',\n",
    "             logic_adapters = [\n",
    "                 {\n",
    "                     'import_path': 'chatterbot.logic.BestMatch',\n",
    "                     'default_response': 'I am sorry, I do not understand. I am still learning. Please contact 02038835955 for further assistance.',\n",
    "                     'maximum_similarity_threshold': 0.90\n",
    "                 }\n",
    "             ],\n",
    "             read_only = True,\n",
    "             preprocessors=['chatterbot.preprocessors.clean_whitespace',\n",
    "'chatterbot.preprocessors.unescape_html',\n",
    "'chatterbot.preprocessors.convert_to_ascii'])"
   ]
  },
  {
   "cell_type": "markdown",
   "id": "7b9448b7",
   "metadata": {},
   "source": [
    "The while loop with get_response() method is being used to get our chatbot to respond to each of our queries continuously. We put an end to the loop and stop the program when we get 'Bye' or 'bye' statement from the user."
   ]
  },
  {
   "cell_type": "code",
   "execution_count": 5,
   "id": "95b3646a",
   "metadata": {},
   "outputs": [
    {
     "name": "stdout",
     "output_type": "stream",
     "text": [
      "Enter Your Name: Esther\n",
      "Hello there. I am Trevelyan House Surgery Amazebot. How can I help you today?\n",
      "Esther:I need to book an appointment\n",
      "Amazebot:  Ok! Please let me know what kind of appointment you are looking for and with who?\n",
      "Esther:I need to see a nurse for a dressing change\n",
      "Amazebot:  Ok. What is a suitable date and time for you?\n",
      "Esther:5th December anytime\n",
      "Amazebot:  Here are the available options: 5th December:10:00AM, 7th December:11:00AM, 9th December:3:30PM\n",
      "Esther:I would like to book 5th December at 10:00am\n",
      "Amazebot:  Ok. Your appointmemnt with the nurse has been scheduled for the 5th of December at 10:00AM. Is there anything else I can help you with today?\n",
      "Esther:No, that is all thank you, bye\n",
      "Amazebot:  Bye, have a lovely day\n",
      "Esther:Bye\n",
      "Amazebot: Bye\n"
     ]
    }
   ],
   "source": [
    "name = input('Enter Your Name: ')\n",
    "print ('Hello there. I am Trevelyan House Surgery Amazebot. How can I help you today?')\n",
    "while True:\n",
    "    \n",
    "    request = input(name+':')\n",
    "    \n",
    "    if request==\"Bye\" or request=='bye':\n",
    "        print('Amazebot: Bye')\n",
    "        break\n",
    "    else:\n",
    "        response=bot.get_response(request)\n",
    "        print('Amazebot: ', response)"
   ]
  },
  {
   "cell_type": "markdown",
   "id": "7d98f65e",
   "metadata": {},
   "source": [
    "# Complete codes\n",
    "Refer to **chatbot_training.py** and **chatbot.py** for the packaged executable scripts."
   ]
  },
  {
   "cell_type": "code",
   "execution_count": null,
   "id": "5f5f70ea",
   "metadata": {},
   "outputs": [],
   "source": []
  }
 ],
 "metadata": {
  "kernelspec": {
   "display_name": "Python 3 (ipykernel)",
   "language": "python",
   "name": "python3"
  },
  "language_info": {
   "codemirror_mode": {
    "name": "ipython",
    "version": 3
   },
   "file_extension": ".py",
   "mimetype": "text/x-python",
   "name": "python",
   "nbconvert_exporter": "python",
   "pygments_lexer": "ipython3",
   "version": "3.9.13"
  }
 },
 "nbformat": 4,
 "nbformat_minor": 5
}
